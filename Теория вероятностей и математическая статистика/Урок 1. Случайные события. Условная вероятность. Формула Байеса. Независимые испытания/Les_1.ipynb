{
 "cells": [
  {
   "cell_type": "markdown",
   "metadata": {},
   "source": [
    "# Случайные события. Условная вероятность. Формула Байеса. Независимые испытания"
   ]
  },
  {
   "cell_type": "code",
   "execution_count": 163,
   "metadata": {},
   "outputs": [],
   "source": [
    "from math import factorial as fact"
   ]
  },
  {
   "cell_type": "markdown",
   "metadata": {},
   "source": [
    "### Задание 1.\n",
    "Из колоды в 52 карты извлекаются случайным образом 4 карты. a) Найти вероятность того, что все карты – крести. б) Найти вероятность, что среди 4-х карт окажется ХОТЯ БЫ один туз."
   ]
  },
  {
   "cell_type": "code",
   "execution_count": 164,
   "metadata": {},
   "outputs": [],
   "source": [
    "cards = 4\n",
    "card_deck = 52"
   ]
  },
  {
   "cell_type": "markdown",
   "metadata": {},
   "source": [
    "a) Найти вероятность того, что все карты – крести."
   ]
  },
  {
   "cell_type": "code",
   "execution_count": 165,
   "metadata": {},
   "outputs": [
    {
     "data": {
      "text/plain": [
       "270725.0"
      ]
     },
     "execution_count": 165,
     "metadata": {},
     "output_type": "execute_result"
    }
   ],
   "source": [
    "all = fact(card_deck)/(fact(cards)*fact(card_deck-cards)) # всего исходов\n",
    "all"
   ]
  },
  {
   "cell_type": "code",
   "execution_count": 166,
   "metadata": {},
   "outputs": [
    {
     "data": {
      "text/plain": [
       "715.0"
      ]
     },
     "execution_count": 166,
     "metadata": {},
     "output_type": "execute_result"
    }
   ],
   "source": [
    "# благоприятствующие условия, из 13 возможных крестей достать 4\n",
    "cross_cards = 13\n",
    "cards_need = 4\n",
    "favorable = fact(cross_cards)/(fact(cards_need)*fact(cross_cards-cards_need))\n",
    "favorable"
   ]
  },
  {
   "cell_type": "code",
   "execution_count": 167,
   "metadata": {},
   "outputs": [
    {
     "data": {
      "text/plain": [
       "0.0026410564225690276"
      ]
     },
     "execution_count": 167,
     "metadata": {},
     "output_type": "execute_result"
    }
   ],
   "source": [
    "chance = favorable/all\n",
    "chance"
   ]
  },
  {
   "cell_type": "markdown",
   "metadata": {},
   "source": [
    "b) Найти вероятность, что среди 4-х карт окажется ХОТЯ БЫ один туз."
   ]
  },
  {
   "cell_type": "code",
   "execution_count": 168,
   "metadata": {},
   "outputs": [],
   "source": [
    "n = 4 # подмножество тузов\n",
    "n1 = 4 # количество извлеченных карт\n",
    "k1 = 1 # количество нужных тузов\n",
    "n1_1 = 52 # общее число карт\n",
    "n1_2 = n1_1 - n # число карт без n1\n",
    "k2 = n1-k1 # количество карт без искомой(ых)\n",
    "# можно подставлять и вычислить для каждых n1 и k1"
   ]
  },
  {
   "cell_type": "code",
   "execution_count": 169,
   "metadata": {},
   "outputs": [
    {
     "name": "stdout",
     "output_type": "stream",
     "text": [
      "Общее число исходов: 270725.0\n",
      "Благоприятствующее число исходов: 194580.0\n"
     ]
    }
   ],
   "source": [
    "all_variants = fact(n1_1)/(fact(n1)*fact(n1_1-n1)) # общее число исходов\n",
    "print('Общее число исходов:',all_variants)\n",
    "\n",
    "favorable_variants = fact(n1_2)/(fact(n1)*fact(n1_2-n1))\n",
    "print('Благоприятствующее число исходов:',favorable_variants)"
   ]
  },
  {
   "cell_type": "code",
   "execution_count": 170,
   "metadata": {},
   "outputs": [
    {
     "name": "stdout",
     "output_type": "stream",
     "text": [
      "Вероятность, что среди 4-х карт окажется туз:28%\n"
     ]
    }
   ],
   "source": [
    "chance = 1 - (favorable_variants/all_variants)\n",
    "print(f'Вероятность, что среди 4-х карт окажется туз:{round(chance*100)}%')"
   ]
  },
  {
   "cell_type": "markdown",
   "metadata": {},
   "source": [
    "Не понимаю почему так не правильно, обьясните пожалуйста! По аналогии с задание по картам на вебинаре.\n",
    "\n",
    "one_card  = fact(n)/(fact(k1)*fact(n-k1)) # возможный один туз из 4 карт\n",
    "print(f'k:{k1}, n:{n}')\n",
    "print('Сочетания k1 в n1:',one_card)\n",
    "\n",
    "another_cards = fact(n1_2)/(fact(k2)*fact(n1_2-k2)) # все оставшиеся варианты (3 карты без туза)\n",
    "print(f'k:{k2}, n:{n1_2}')\n",
    "print('Все оставшиеся варианты:',another_cards)\n",
    "\n",
    "g_variants = one_card*another_cards # все варианты с n тузами, благоприятствующие условия (исход из 3 карт умножаем на 4)\n",
    "print('Все варианты с n тузами, благоприятствующие условию:',g_variants)\n",
    "\n",
    "all_variants = fact(n1_1)/(fact(n1)*fact(n1_1-n1)) # общее число исходов\n",
    "print('Общее число исходов:',all_variants)\n",
    "chance = g_variants/all_variants*100 # % шанса\n",
    "print('Шанс в %',chance)"
   ]
  },
  {
   "cell_type": "markdown",
   "metadata": {},
   "source": [
    "### Задание 2"
   ]
  },
  {
   "cell_type": "markdown",
   "metadata": {},
   "source": [
    "На входной двери подъезда установлен кодовый замок, содержащий десять кнопок с цифрами от 0 до 9. Код содержит три цифры, которые нужно нажать одновременно. Какова вероятность того, что человек, не знающий код, откроет дверь с первой попытки?"
   ]
  },
  {
   "cell_type": "markdown",
   "metadata": {},
   "source": [
    "Вероятность того, что человек, не знающий код, откроет дверь с первой попытки: $\\frac{1}{10} * \\frac{1}{10} * \\frac{1}{10} = \\frac{1}{1000} = 0.001$"
   ]
  },
  {
   "cell_type": "markdown",
   "metadata": {},
   "source": [
    "### Задание 3"
   ]
  },
  {
   "cell_type": "markdown",
   "metadata": {},
   "source": [
    "В ящике имеется 15 деталей, из которых 9 окрашены. Рабочий случайным образом извлекает 3 детали. Какова вероятность того, что все извлеченные детали окрашены?"
   ]
  },
  {
   "cell_type": "markdown",
   "metadata": {},
   "source": [
    "Верятоность достать 1 окашенный $\\frac{9}{15} = \\frac{3}{5}$\n",
    "Вероятность достать 1 и 2, и 3 окрашенных $\\frac{3}{5} * \\frac{3}{5} * \\frac{3}{5} = \\frac{27}{125}$"
   ]
  },
  {
   "cell_type": "code",
   "execution_count": 181,
   "metadata": {},
   "outputs": [
    {
     "data": {
      "text/plain": [
       "'Вероятность: 21.6%'"
      ]
     },
     "execution_count": 181,
     "metadata": {},
     "output_type": "execute_result"
    }
   ],
   "source": [
    "f'Вероятность: {27/125*100}%'"
   ]
  },
  {
   "cell_type": "markdown",
   "metadata": {},
   "source": [
    "### Задание 4"
   ]
  },
  {
   "cell_type": "markdown",
   "metadata": {},
   "source": [
    "В лотерее 100 билетов. Из них 2 выигрышных. Какова вероятность того, что 2 приобретенных билета окажутся выигрышными?"
   ]
  },
  {
   "cell_type": "markdown",
   "metadata": {},
   "source": [
    "Вероятность одного выигрышного $\\frac{1}{100}$\n",
    "Вероятность 2 выигрышных юилетов $\\frac{1}{100*100}=\\frac{1}{10000}=0.0001$"
   ]
  },
  {
   "cell_type": "code",
   "execution_count": 184,
   "metadata": {},
   "outputs": [
    {
     "data": {
      "text/plain": [
       "'Вероятность: 0.01%'"
      ]
     },
     "execution_count": 184,
     "metadata": {},
     "output_type": "execute_result"
    }
   ],
   "source": [
    "f'Вероятность: {0.0001*100}%'"
   ]
  }
 ],
 "metadata": {
  "kernelspec": {
   "display_name": "Python 3",
   "language": "python",
   "name": "python3"
  },
  "language_info": {
   "codemirror_mode": {
    "name": "ipython",
    "version": 3
   },
   "file_extension": ".py",
   "mimetype": "text/x-python",
   "name": "python",
   "nbconvert_exporter": "python",
   "pygments_lexer": "ipython3",
   "version": "3.7.6"
  }
 },
 "nbformat": 4,
 "nbformat_minor": 4
}

{
 "cells": [
  {
   "cell_type": "markdown",
   "metadata": {},
   "source": [
    "**XGBoost (eXtreme Gradient Boosting)**<a class=\"anchor\" id=\"xgb\"></a><br>\n",
    "[Видео с разбором алгоритма](https://youtu.be/OtD8wVaFm6E)"
   ]
  },
  {
   "cell_type": "markdown",
   "metadata": {},
   "source": [
    "<img src=\"images_extra/xgb_tree.png\" width=550px>"
   ]
  },
  {
   "cell_type": "markdown",
   "metadata": {},
   "source": [
    "<center><h4><i>Похожесть</i></h4></center><br>\n",
    "$$Similarity = \\frac{(\\sum{Resideal_i})^2}{\\sum{[Prev Proba_i * (1 - Prev Proba_i)]} + \\lambda}$$"
   ]
  },
  {
   "cell_type": "markdown",
   "metadata": {},
   "source": [
    "$Similarity_{10} =\\frac{(-0.5 + 0.5 + 0.5 -0.5)^2}{[(0.5 * (1 - 0.5)) + (0.5 * (1 - 0.5)) + (0.5 * (1 - 0.5)) + (0.5 * (1 - 0.5))] + 0} = 0$<br>\n",
    "$Similarity_{11} =\\frac{(-0.5 + 0.5 + 0.5)^2}{[(0.5 * (1 - 0.5)) + (0.5 * (1 - 0.5)) + (0.5 * (1 - 0.5))] + 0} = 0.33$<br>\n",
    "$Similarity_{21} =\\frac{(-0.5)^2}{0.5 * (1 - 0.5) + 0} = 1$"
   ]
  },
  {
   "cell_type": "markdown",
   "metadata": {},
   "source": [
    "<center><h4><i>Прирост</i></h4></center><br>\n",
    "$$Gain = Left_{Similarity} + Right_{Similarity} - Root_{Similarity}$$"
   ]
  },
  {
   "cell_type": "markdown",
   "metadata": {},
   "source": [
    "$Gain = 0.33 + 1 - 0 = 1.33$"
   ]
  },
  {
   "cell_type": "markdown",
   "metadata": {},
   "source": [
    "<center><h4><i>Стрижка деревьев</i></h4></center><br>\n",
    "$$Gain - \\gamma \\geqslant 0 \\Rightarrow оставляем$$\n",
    "$$Gain - \\gamma < 0 \\Rightarrow убираем$$"
   ]
  },
  {
   "cell_type": "markdown",
   "metadata": {},
   "source": [
    "$\\lambda$ - регуляризация\n",
    "    - default=1\n",
    "$\\gamma$ - минимальный прирост, чтобы не убирать разделение\n",
    "    - default=0\n",
    "    - range: [0,∞]\n",
    "$\\eta$ - learning rate (скорость обучения)\n",
    "    - default=0.3\n",
    "    - range: [0,1]"
   ]
  },
  {
   "cell_type": "code",
   "execution_count": 7,
   "metadata": {},
   "outputs": [
    {
     "data": {
      "text/plain": [
       "XGBClassifier(base_score=0.5, booster='gbtree', colsample_bylevel=1,\n",
       "              colsample_bynode=1, colsample_bytree=1, gamma=0.5,\n",
       "              learning_rate=0.2, max_delta_step=0, max_depth=3,\n",
       "              min_child_weight=1, missing=None, n_estimators=100, n_jobs=1,\n",
       "              nthread=None, objective='binary:logistic', random_state=0,\n",
       "              reg_alpha=3, reg_lambda=1, scale_pos_weight=1, seed=None,\n",
       "              silent=None, subsample=1, verbosity=1)"
      ]
     },
     "execution_count": 7,
     "metadata": {},
     "output_type": "execute_result"
    }
   ],
   "source": [
    "from xgboost import XGBClassifier, XGBRegressor\n",
    "\n",
    "XGBClassifier(max_depth=3,\n",
    "              n_estimators=100,\n",
    "              learning_rate=0.2,\n",
    "              gamma=0.5,\n",
    "              reg_alpha=3)"
   ]
  },
  {
   "cell_type": "markdown",
   "metadata": {},
   "source": [
    "## **LightGBM**\n",
    "\n",
    "\n",
    "[Оригинальная статья](https://papers.nips.cc/paper/6907-lightgbm-a-highly-efficient-gradient-boosting-decision-tree.pdf)"
   ]
  },
  {
   "cell_type": "markdown",
   "metadata": {},
   "source": [
    "<img src=\"images_extra/wise_growth.png\">"
   ]
  },
  {
   "cell_type": "markdown",
   "metadata": {},
   "source": [
    "*Gradient-based One-Side Sampling (GOSS)*\n",
    "\n",
    "GOSS сохраняет наблюдения с большим градиентом и случайно сэмплирует выборку из наблюдений с маленькими градиентами.<br>\n",
    "Итого, выбирается a$*$100% наблюдений из топа с большими градиентами.<br>\n",
    "Рандомно b$*$100% наблюдений из остальной.<br>"
   ]
  },
  {
   "cell_type": "markdown",
   "metadata": {},
   "source": [
    "*Exclusive Feature Bundling (EFB)*\n",
    "\n",
    "Разряжённые данные значат, что многие признаки никогда ненулевые вместе. Это позволяет совместить (\"bundle\") эти фичи в одну без потери информации.<br>\n",
    "Пример, у фичи А диапазон значений (0, 10) и у B - (0, 20). Добавляется смещение 10 к значениям фичи B, теперь их диапазон (10, 30). После, можно соединять A и B и использовать \"feature bundle\" с диапазоном (0, 30), чтобы заменить оригинальные A и B."
   ]
  },
  {
   "cell_type": "code",
   "execution_count": 2,
   "metadata": {},
   "outputs": [
    {
     "data": {
      "text/plain": [
       "LGBMClassifier(boosting_type='gbdt', class_weight={0: 1, 1: 5},\n",
       "               colsample_bytree=1.0, importance_type='split', learning_rate=0.1,\n",
       "               max_depth=3, min_child_samples=20, min_child_weight=0.001,\n",
       "               min_split_gain=0.0, n_estimators=100, n_jobs=-1, num_leaves=31,\n",
       "               objective=None, random_state=None, reg_alpha=0.0, reg_lambda=0.0,\n",
       "               silent=True, subsample=1.0, subsample_for_bin=200000,\n",
       "               subsample_freq=0)"
      ]
     },
     "execution_count": 2,
     "metadata": {},
     "output_type": "execute_result"
    }
   ],
   "source": [
    "from lightgbm import LGBMClassifier, LGBMRegressor\n",
    "\n",
    "LGBMClassifier(max_depth=3,\n",
    "               n_estimators=100,\n",
    "               class_weight={0:1, 1:5},\n",
    "               learning_rate=0.1,\n",
    "               reg_alpha=0.5)"
   ]
  },
  {
   "cell_type": "markdown",
   "metadata": {},
   "source": [
    "## **CatBoost**\n",
    "[Выступление от разработчиков](https://www.youtube.com/watch?v=8o0e-r0B5xQ)"
   ]
  },
  {
   "cell_type": "markdown",
   "metadata": {},
   "source": [
    "<img src=\"images_extra/catboost.png\">"
   ]
  },
  {
   "cell_type": "markdown",
   "metadata": {},
   "source": [
    "- Предотвращение переобучения\n",
    "    - Обучается несколько модель за одну итерацию и высчитываются остатки по наблюдениям на тех моделях, которые не видели его.\n",
    "    - Высокий уровень рандома (перемешивание выборки и много случайности в начале построения дерева)\n",
    "  \n",
    "- Работа с категориальными признаками"
   ]
  },
  {
   "cell_type": "markdown",
   "metadata": {},
   "source": [
    "<img src=\"images_extra/catboost_category.png\">"
   ]
  },
  {
   "cell_type": "code",
   "execution_count": 6,
   "metadata": {},
   "outputs": [
    {
     "data": {
      "text/plain": [
       "<catboost.core.CatBoostClassifier at 0x7fa500841b70>"
      ]
     },
     "execution_count": 6,
     "metadata": {},
     "output_type": "execute_result"
    }
   ],
   "source": [
    "from catboost import CatBoostClassifier, CatBoostRegressor\n",
    "\n",
    "CatBoostClassifier(silent=True,\n",
    "                   class_weights=[1, 5],\n",
    "                   n_estimators=100,\n",
    "                   learning_rate=0.2,\n",
    "                   depth=10,\n",
    "                   l2_leaf_reg=0.5,\n",
    "                   eval_metric='F1',\n",
    "                   cat_features=['education', 'eye_color'],\n",
    "                   early_stopping_rounds=20,\n",
    "                   custom_metric=['Precision', 'Recall'])"
   ]
  }
 ],
 "metadata": {
  "kernelspec": {
   "display_name": "Python 3",
   "language": "python",
   "name": "python3"
  },
  "language_info": {
   "codemirror_mode": {
    "name": "ipython",
    "version": 3
   },
   "file_extension": ".py",
   "mimetype": "text/x-python",
   "name": "python",
   "nbconvert_exporter": "python",
   "pygments_lexer": "ipython3",
   "version": "3.6.8"
  }
 },
 "nbformat": 4,
 "nbformat_minor": 2
}

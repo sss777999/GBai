{
 "cells": [
  {
   "cell_type": "markdown",
   "metadata": {},
   "source": [
    "1. Сравните метрики hit_rate@k, precision@k.   \n",
    "Какую метрику использовать предпочтительно и почему?  \n",
    "Приведите пример 2-3 задач (опишите, что является клиентом, что товаром), в которой более уместно использовать метрику hit_rate?\n"
   ]
  },
  {
   "cell_type": "markdown",
   "metadata": {},
   "source": [
    "### Ответ: \n",
    "precision@k удобнее использовать (кому как, вероятнее всего). Так как hit_rate@k показывает просто количество bought в recommended, а precision@k показывает % соотношение купленных из рекоммендованных. Опять же все зависит от задачи.\n",
    "\n",
    "Примеры задач:\n",
    "1) например продажа хоккейных клюшек (юзер - К, клюшка -Т). Из рекоммендованных 10 клюшек человек купил 3. Не всегда может быть важно какой именно фирмы или на какой позиции эти клюшки в рекоммендованных (может быть магазин держит их на складе постоянно в одинаковом количестве. Например каждой фирмы, всех размеров по 5 штук и просто пополняет их по потребности). Тогда и hit_rate@ их полностью устроит. Могут пересмотреть цены и т.д., масса вариантов.\n",
    "\n",
    "2) программа по контролю доступа в гостинице (программа - К, посетитель - Т). Человек покупает электронный ключ, по которому в номер получает доступ. В приложении сети гостиниц в рекомендации было предложено было 5 номеров (одинакового уровня), человек выбрал 2-й например. Суть в том, что продажа была произведена номера определенной категории, не всегда важно какого именно (все от модели ведения бизнеса зависит).\n",
    "\n",
    "3) Еще пример магазина, где продаются продукты только собственного произодства. На сайте здорового питания человеку дали рекоммендацию. Было предложено 3 товара одной категории, на 3 из которых была скидка (пользователь - Т, товар - К), отличающиеся видом упаковки (представим, что эта конверсия их не волнует), из них пользователь приобрел 1 товар из 3 рекомендованных. hit_rate@3 = 1. Что всех устраивает в нашем случае. Пример со скидкой выбрал, чтобы пользователя сделать товаром для разнообразия."
   ]
  },
  {
   "cell_type": "markdown",
   "metadata": {},
   "source": [
    "2. В метрике NDCG@k мы используем логарифм в знаменателе. Как Вы думаете, почему именно логарифм? Какую функцию можно использовать вместо логарифма? Привидите пример метрик/подходов к предобработке данных/функций ошибок в ML, где также в  логарифм.\n",
    "\n"
   ]
  },
  {
   "cell_type": "markdown",
   "metadata": {},
   "source": [
    "### Ответ:\n",
    "1) функция более гладкая, алгоритм не растет так быстро. При больших значениях не сильно штрафует.\n",
    "\n",
    "2) интуитивно кажется сигмоидную\n",
    "\n",
    "3) можно усложнить MAE или MSE взяв логарифм"
   ]
  },
  {
   "cell_type": "markdown",
   "metadata": {},
   "source": [
    "3. Какие еще метрики (Вы можете вспомнить уже пройденные Вами или посмотреть в интернете) могут использоваться для рекомендательных систем (приведите примеры метрики **и чем являются интеракции**, чтобы она могла быть использована)."
   ]
  },
  {
   "cell_type": "markdown",
   "metadata": {},
   "source": [
    "### Ответ:\n",
    "Основные метрики ранжирования:\n",
    "- Precision, MAP, MP, PR@k\n",
    "- Recall, REC@k\n",
    "- NDCG - Normalized Discounted Commulative Gain, NDCG@k, DCG, DCG@k\n",
    "- Reciprocal rank, MRR, ERR\n",
    "\n",
    "Метрики на основе ранговой корреляции:\n",
    "- ранговый коэффициент корреляции Кендэлла\n",
    "- ранговый коэффициент корреляции Спирмена\n",
    "\n",
    "Метрики на основе каскадной модели поведения\n",
    "- Expected reciprocal rank (ERR), ERR@k\n",
    "- PFound\n",
    "\n",
    "Интеракциями являются взаимодейтсвия клиента с товаром. Все известные мне и найденные мной метрики основаны на этом. Не совсем понятен вопрос, что конкретно имеется ввиду"
   ]
  },
  {
   "cell_type": "markdown",
   "metadata": {},
   "source": [
    "4. boughted = [1, 3, 5, 7, 9, 11]  \n",
    "recommended = [2, 5, 7, 4, 11, 9, 8, 10, 12, 3]  \n",
    "Посчитайте на этих данных pr@8, rec@8, AP@8, NDCG@8, RR@8, ERR@8 (expected reciprocal rank)  \n",
    "Сначала поссчитайет \"руками\", а затем подтвердите рассчеты с помощью функций (некоторые были на семинаре, некоторые нужно будут написать самостоятельно)"
   ]
  },
  {
   "cell_type": "markdown",
   "metadata": {},
   "source": [
    "**Пример выполнения 4го задания**\n",
    "\n",
    "MSE на  \n",
    "$y = [0, 2]$  \n",
    "$y_{pred} = [1, 2]$\n",
    "\n",
    "MSE = $0.5*((0 - 1)^2 + (2-2)^2) = 0.5$ "
   ]
  },
  {
   "cell_type": "code",
   "execution_count": 1,
   "metadata": {
    "scrolled": true
   },
   "outputs": [
    {
     "data": {
      "text/plain": [
       "0.5"
      ]
     },
     "execution_count": 1,
     "metadata": {},
     "output_type": "execute_result"
    }
   ],
   "source": [
    "import numpy as np\n",
    "((np.array([0, 2]) - np.array([1, 2]))**2).mean()"
   ]
  },
  {
   "cell_type": "markdown",
   "metadata": {},
   "source": [
    "### Ответ:"
   ]
  },
  {
   "cell_type": "code",
   "execution_count": 3,
   "metadata": {},
   "outputs": [],
   "source": [
    "import numpy as np"
   ]
  },
  {
   "cell_type": "code",
   "execution_count": 3,
   "metadata": {},
   "outputs": [],
   "source": [
    "boughted = [1, 3, 5, 7, 9, 11]  "
   ]
  },
  {
   "cell_type": "code",
   "execution_count": 4,
   "metadata": {},
   "outputs": [],
   "source": [
    "recommended = [2, 5, 7, 4, 11, 9, 8, 10, 12, 3]"
   ]
  },
  {
   "cell_type": "markdown",
   "metadata": {},
   "source": [
    "### pr@8"
   ]
  },
  {
   "cell_type": "markdown",
   "metadata": {},
   "source": [
    "pr@8 = 1+1+1+1 / 8 = 1/2 = 0.5"
   ]
  },
  {
   "cell_type": "code",
   "execution_count": 5,
   "metadata": {},
   "outputs": [],
   "source": [
    "def precision_at_k(recommended_list, bought_list, k=8):\n",
    "    \n",
    "    bought_list = np.array(bought_list)\n",
    "    recommended_list = np.array(recommended_list)\n",
    "    \n",
    "    bought_list = bought_list  # Тут нет [:k] !!\n",
    "    recommended_list = recommended_list[:k]\n",
    "    \n",
    "    flags = np.isin(bought_list, recommended_list)\n",
    "    \n",
    "    \n",
    "    precision = flags.sum() / len(recommended_list)\n",
    "    \n",
    "    return precision"
   ]
  },
  {
   "cell_type": "code",
   "execution_count": 6,
   "metadata": {},
   "outputs": [
    {
     "data": {
      "text/plain": [
       "0.5"
      ]
     },
     "execution_count": 6,
     "metadata": {},
     "output_type": "execute_result"
    }
   ],
   "source": [
    "precision_at_k(recommended, boughted)"
   ]
  },
  {
   "cell_type": "markdown",
   "metadata": {},
   "source": [
    "### rec@8"
   ]
  },
  {
   "cell_type": "markdown",
   "metadata": {},
   "source": [
    "rec@8 = 1+1+1+1 / 6 = 1/3 = 0.66"
   ]
  },
  {
   "cell_type": "code",
   "execution_count": 7,
   "metadata": {},
   "outputs": [],
   "source": [
    "def recall_at_k(recommended_list, bought_list, k=8):\n",
    "    bought_list = np.array(bought_list)\n",
    "    recommended_list = np.array(recommended_list)[:k]\n",
    "    \n",
    "    flags = np.isin(bought_list, recommended_list)\n",
    "    \n",
    "    recall = flags.sum() / len(bought_list)\n",
    "    \n",
    "    return recall"
   ]
  },
  {
   "cell_type": "code",
   "execution_count": 8,
   "metadata": {},
   "outputs": [
    {
     "data": {
      "text/plain": [
       "0.6666666666666666"
      ]
     },
     "execution_count": 8,
     "metadata": {},
     "output_type": "execute_result"
    }
   ],
   "source": [
    "recall_at_k(recommended, boughted)"
   ]
  },
  {
   "cell_type": "markdown",
   "metadata": {},
   "source": [
    "### AP@8"
   ]
  },
  {
   "cell_type": "markdown",
   "metadata": {},
   "source": [
    "AP@8 = 0 + 1/2 + 2/4 + 3/5 = (0 + 0.5 + 0.5 + 0.6) / 10 = 0.16"
   ]
  },
  {
   "cell_type": "code",
   "execution_count": 9,
   "metadata": {},
   "outputs": [],
   "source": [
    "def ap_k(recommended_list, bought_list, k=8):\n",
    "    \n",
    "    bought_list = np.array(bought_list)\n",
    "    recommended_list = np.array(recommended_list)\n",
    "    \n",
    "    flags = np.isin(recommended_list, bought_list)\n",
    "    \n",
    "    if sum(flags) == 0:\n",
    "        return 0\n",
    "    \n",
    "    sum_ = 0\n",
    "    for i in range(1, k+1): \n",
    "        if flags[i] == True:\n",
    "            p_k = precision_at_k(recommended_list, bought_list, k=i)\n",
    "            sum_ += p_k\n",
    "            \n",
    "    result = sum_ / len(flags)\n",
    "    return result"
   ]
  },
  {
   "cell_type": "code",
   "execution_count": 10,
   "metadata": {},
   "outputs": [
    {
     "data": {
      "text/plain": [
       "0.16"
      ]
     },
     "execution_count": 10,
     "metadata": {},
     "output_type": "execute_result"
    }
   ],
   "source": [
    "ap_k(recommended, boughted)"
   ]
  },
  {
   "cell_type": "markdown",
   "metadata": {},
   "source": [
    "### NDCG@8"
   ]
  },
  {
   "cell_type": "markdown",
   "metadata": {},
   "source": [
    "Normalized discounted cumulative gain\n",
    "\n",
    "$$DCG = \\frac{1}{|r|} \\sum_u{\\frac{[bought fact]}{discount(i)}}$$  \n",
    "\n",
    "$discount(i) = 1$ if $i <= 2$,   \n",
    "$discount(i) = log_2(i)$ if $i > 2$\n",
    "\n",
    "\n",
    "(!) Считаем для первых k рекоммендаций   \n",
    "(!) - существуют вариации с другими $discount(i)$  \n",
    "i - ранк рекомендованного товара  \n",
    "|r| - кол-во рекомендованных товаров \n",
    "\n",
    "$$NDCG = \\frac{DCG}{ideal DCG}$$\n",
    "\n",
    "\n",
    "\n",
    "$DCG@5 = \\frac{1}{5}*(1 / 1 + 0 / log(2) + 0 / log(3) + 1 / log(4) + 0 / log(5))$  \n",
    "$ideal DCG@5 = \\frac{1}{5}*(1 / 1 + 1 / log(2) + 1 / log(3) + 1 / log(4) + 1 / log(5))$  \n",
    "\n",
    "$NDCG = \\frac{DCG}{ideal DCG}$"
   ]
  },
  {
   "cell_type": "code",
   "execution_count": 11,
   "metadata": {},
   "outputs": [],
   "source": [
    "boughted = [1, 3, 5, 7, 9, 11]"
   ]
  },
  {
   "cell_type": "code",
   "execution_count": 12,
   "metadata": {},
   "outputs": [],
   "source": [
    "recommended = [2, 5, 7, 4, 11, 9, 8, 10, 12, 3]"
   ]
  },
  {
   "cell_type": "markdown",
   "metadata": {},
   "source": [
    "$DCG@8 = \\frac{1}{8}*(0 / 1 + 0 / log(2) + 1 / log(3) + 1 / log(4) + 1 / log(5) + 1 / log(6)) = 0.24$\n",
    "\n",
    "$ideal DCG@8 = \\frac{1}{8}*(1 / 1 + 1 / log2(2) + 1 / log2(3) + 1 / log2(4) + 1 / log2(5) + 1 / log2(6) + 1 / log2(7) + 1 / log2(8)) = 0.57$\n",
    "\n",
    "$NDCG = \\frac{DCG}{ideal DCG} = 0.42$"
   ]
  },
  {
   "cell_type": "code",
   "execution_count": 88,
   "metadata": {},
   "outputs": [],
   "source": [
    "# все посчитано по материалам из методички!"
   ]
  },
  {
   "cell_type": "code",
   "execution_count": 71,
   "metadata": {
    "scrolled": true
   },
   "outputs": [
    {
     "data": {
      "text/plain": [
       "[0, 0, 1, 1, 1, 1]"
      ]
     },
     "execution_count": 71,
     "metadata": {},
     "output_type": "execute_result"
    }
   ],
   "source": [
    "k = 8\n",
    "flags = np.isin(boughted, recommended[:k])\n",
    "flags = [1 if x==True else 0 for x in flags]\n",
    "flags"
   ]
  },
  {
   "cell_type": "code",
   "execution_count": 14,
   "metadata": {},
   "outputs": [
    {
     "data": {
      "text/plain": [
       "0.24355738985992403"
      ]
     },
     "execution_count": 14,
     "metadata": {},
     "output_type": "execute_result"
    }
   ],
   "source": [
    "def dcg_func(flags, k, temp=0):\n",
    "    for i in range(1,len(flags)+1):\n",
    "        if i < 2 and flags[0] != 0:\n",
    "            temp+=1\n",
    "        if i >=2 and i < len(flags)+1:\n",
    "            temp += flags[i-1]/np.log2(i)\n",
    "        first_DCG = 1/k * temp\n",
    "    return first_DCG\n",
    "\n",
    "first_DCG = dcg_func(flags, k)\n",
    "first_DCG"
   ]
  },
  {
   "cell_type": "code",
   "execution_count": 15,
   "metadata": {},
   "outputs": [
    {
     "data": {
      "text/plain": [
       "0.5797499549150935"
      ]
     },
     "execution_count": 15,
     "metadata": {},
     "output_type": "execute_result"
    }
   ],
   "source": [
    "def ideal_dcg_func(flags, k, temp_ideal=0):\n",
    "    temp_ideal += 1 + np.sum(1/np.log2(np.arange(2, k+1)))\n",
    "    return temp_ideal * (1/k)\n",
    "\n",
    "ideal_DCG = ideal_dcg_func(flags, k)\n",
    "ideal_DCG"
   ]
  },
  {
   "cell_type": "code",
   "execution_count": 16,
   "metadata": {},
   "outputs": [
    {
     "data": {
      "text/plain": [
       "0.4201076477799708"
      ]
     },
     "execution_count": 16,
     "metadata": {},
     "output_type": "execute_result"
    }
   ],
   "source": [
    "NDCG = first_DCG/ideal_DCG\n",
    "NDCG"
   ]
  },
  {
   "cell_type": "markdown",
   "metadata": {},
   "source": [
    "#####  Все функции построены по информации из урока. Почему через sklearn настолько другой результат? Без ограничения по длине не считает из разности длины. "
   ]
  },
  {
   "cell_type": "code",
   "execution_count": 18,
   "metadata": {
    "scrolled": false
   },
   "outputs": [
    {
     "data": {
      "text/plain": [
       "0.9558847866229218"
      ]
     },
     "execution_count": 18,
     "metadata": {},
     "output_type": "execute_result"
    }
   ],
   "source": [
    "from sklearn.metrics import ndcg_score, dcg_score\n",
    "ndcg_score(np.array([boughted]), np.array([recommended[:6]]))"
   ]
  },
  {
   "cell_type": "code",
   "execution_count": 19,
   "metadata": {},
   "outputs": [
    {
     "data": {
      "text/plain": [
       "22.79643380125602"
      ]
     },
     "execution_count": 19,
     "metadata": {},
     "output_type": "execute_result"
    }
   ],
   "source": [
    "dcg_score(np.array([boughted]), np.array([recommended[:6]]))"
   ]
  },
  {
   "cell_type": "code",
   "execution_count": 20,
   "metadata": {},
   "outputs": [
    {
     "data": {
      "text/plain": [
       "21.79076425987717"
      ]
     },
     "execution_count": 20,
     "metadata": {},
     "output_type": "execute_result"
    }
   ],
   "source": [
    "22.79643380125602 * 0.9558847866229218"
   ]
  },
  {
   "cell_type": "markdown",
   "metadata": {},
   "source": [
    "### RR@8"
   ]
  },
  {
   "cell_type": "markdown",
   "metadata": {},
   "source": [
    "RR@8 = (1/2 + 1/3 + 1/6 + 1/5) / 10 = 0.12"
   ]
  },
  {
   "cell_type": "code",
   "execution_count": 30,
   "metadata": {},
   "outputs": [],
   "source": [
    "boughted = [1, 3, 5, 7, 9, 11]"
   ]
  },
  {
   "cell_type": "code",
   "execution_count": 31,
   "metadata": {},
   "outputs": [],
   "source": [
    "recommended = [2, 5, 7, 4, 11, 9, 8, 10, 12, 3]"
   ]
  },
  {
   "cell_type": "code",
   "execution_count": 32,
   "metadata": {},
   "outputs": [],
   "source": [
    "def rr_k(boughted, recommended, k):\n",
    "    return sum([1/(recommended.index(i)+1) for i in boughted if i in recommended[:k]])/len(recommended)"
   ]
  },
  {
   "cell_type": "code",
   "execution_count": 33,
   "metadata": {},
   "outputs": [
    {
     "data": {
      "text/plain": [
       "0.12"
      ]
     },
     "execution_count": 33,
     "metadata": {},
     "output_type": "execute_result"
    }
   ],
   "source": [
    "rr_k(boughted, recommended, k)"
   ]
  },
  {
   "cell_type": "markdown",
   "metadata": {},
   "source": [
    "ERR@8"
   ]
  },
  {
   "cell_type": "code",
   "execution_count": 86,
   "metadata": {
    "scrolled": true
   },
   "outputs": [
    {
     "data": {
      "text/plain": [
       "0.2222222222222223"
      ]
     },
     "execution_count": 86,
     "metadata": {},
     "output_type": "execute_result"
    }
   ],
   "source": [
    "1 * np.prod(1-np.array([1/(recommended.index(i)+1) for i in boughted if i in recommended[:k]]))"
   ]
  },
  {
   "cell_type": "markdown",
   "metadata": {},
   "source": [
    "Исходя из доп информации данной внизу нотубука с уроком pk = rtrue и т.д. Выше же описано что сумма rtrue ... равна как раз сумме значений в аналоге нашего flags. Тогда получается, что в нашем случае это 1."
   ]
  },
  {
   "cell_type": "markdown",
   "metadata": {},
   "source": [
    "Очен мало информации. Для нормального выполнения пункта не достаточно! Давайте всю информацию на занятии без поисков, изрядно раздражает."
   ]
  },
  {
   "cell_type": "markdown",
   "metadata": {},
   "source": [
    "##### От вас по ERR@8 получена информация разберем на вебинаре, поэтому даьше часы тратить не стал!"
   ]
  },
  {
   "cell_type": "markdown",
   "metadata": {},
   "source": [
    "Почему наши формулы отличются от везде описанных? На всех сайтах одинаковые, кроме нашей методички. По какой причине? precision, dcg считается почему-то по другим формулам с учетом ранка элементов, а не просто суммы 1. Подбобней не буду описывать и так все видно. Вопросов по всему очень много"
   ]
  }
 ],
 "metadata": {
  "kernelspec": {
   "display_name": "Python 3",
   "language": "python",
   "name": "python3"
  },
  "language_info": {
   "codemirror_mode": {
    "name": "ipython",
    "version": 3
   },
   "file_extension": ".py",
   "mimetype": "text/x-python",
   "name": "python",
   "nbconvert_exporter": "python",
   "pygments_lexer": "ipython3",
   "version": "3.8.5"
  }
 },
 "nbformat": 4,
 "nbformat_minor": 2
}

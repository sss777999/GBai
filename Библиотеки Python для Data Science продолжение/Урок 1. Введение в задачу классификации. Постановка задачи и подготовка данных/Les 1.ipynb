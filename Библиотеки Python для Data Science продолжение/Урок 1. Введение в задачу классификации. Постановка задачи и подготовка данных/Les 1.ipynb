{
 "cells": [
  {
   "cell_type": "markdown",
   "metadata": {},
   "source": [
    "### Введение в задачу классификации. Постановка задачи и подготовка данных."
   ]
  },
  {
   "cell_type": "markdown",
   "metadata": {},
   "source": [
    "1. Приведите по 2 примера, когда лучше максимизировать Precision, а когда Recall.\n",
    "2. Почему мы используем F-меру, почему, например, нельзя просто взять среднее от Precision и Recall?"
   ]
  },
  {
   "cell_type": "markdown",
   "metadata": {},
   "source": [
    "### Задание 1"
   ]
  },
  {
   "cell_type": "markdown",
   "metadata": {},
   "source": [
    "Precision\n",
    "1) доступ на какой-то охраняемый объект, важна точность;\n",
    "2) пример с больницой, когда нужно не пропустить больного (не ошибиться), может быть лечение или дальнейшая проверка очень дорогая, тогда важна точность.\n",
    "\n",
    "Recall\n",
    "1) максимально охватить всех больных, никого не пропустить, даже если здоровый будет предсказан как больной ничего страшного;\n",
    "2) добыча ископаемых на определнной местности, нужно охватить как можно больше территории (подходящих мест), не урезать варианты. Легче проверить, чем не найти из-за ошибки"
   ]
  },
  {
   "cell_type": "markdown",
   "metadata": {},
   "source": [
    "### Задание 2"
   ]
  },
  {
   "cell_type": "markdown",
   "metadata": {},
   "source": [
    "С помощью коэффициента мы отдаем предпочтение precision или recall, тем самый регулируем интересующий нас результат. Просто среднее найти смысла не имеет."
   ]
  },
  {
   "cell_type": "code",
   "execution_count": null,
   "metadata": {},
   "outputs": [],
   "source": []
  }
 ],
 "metadata": {
  "kernelspec": {
   "display_name": "Python 3",
   "language": "python",
   "name": "python3"
  },
  "language_info": {
   "codemirror_mode": {
    "name": "ipython",
    "version": 3
   },
   "file_extension": ".py",
   "mimetype": "text/x-python",
   "name": "python",
   "nbconvert_exporter": "python",
   "pygments_lexer": "ipython3",
   "version": "3.7.9"
  }
 },
 "nbformat": 4,
 "nbformat_minor": 4
}

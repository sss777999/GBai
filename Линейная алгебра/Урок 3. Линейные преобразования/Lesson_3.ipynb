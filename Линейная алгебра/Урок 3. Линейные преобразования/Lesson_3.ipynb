{
 "cells": [
  {
   "cell_type": "markdown",
   "metadata": {},
   "source": [
    "# Линейные преобразования"
   ]
  },
  {
   "cell_type": "code",
   "execution_count": 1,
   "metadata": {},
   "outputs": [],
   "source": [
    "import numpy as np"
   ]
  },
  {
   "cell_type": "markdown",
   "metadata": {},
   "source": [
    "### Задание 1"
   ]
  },
  {
   "cell_type": "markdown",
   "metadata": {},
   "source": [
    "Найти собственные векторы и собственные значения для линейного оператора, заданного матрицей\n",
    "\n",
    "$$A=\\begin{pmatrix}\n",
    "-1 & -6\\\\ \n",
    "2 & 6\n",
    "\\end{pmatrix}.$$"
   ]
  },
  {
   "cell_type": "code",
   "execution_count": 2,
   "metadata": {},
   "outputs": [
    {
     "data": {
      "text/plain": [
       "array([[-1, -6],\n",
       "       [ 2,  6]])"
      ]
     },
     "execution_count": 2,
     "metadata": {},
     "output_type": "execute_result"
    }
   ],
   "source": [
    "A = np.array([[-1,-6], [2,6]])\n",
    "A"
   ]
  },
  {
   "cell_type": "code",
   "execution_count": 11,
   "metadata": {},
   "outputs": [
    {
     "name": "stdout",
     "output_type": "stream",
     "text": [
      "Собственные значения: [2. 3.]\n",
      "Собственные векторы:\n",
      "[[-0.89442719  0.83205029]\n",
      " [ 0.4472136  -0.5547002 ]]\n"
     ]
    }
   ],
   "source": [
    "w, v = np.linalg.eig(A)\n",
    "print(f'Собственные значения: {w}') \n",
    "print(f'Собственные векторы:\\n{v}')"
   ]
  },
  {
   "cell_type": "markdown",
   "metadata": {},
   "source": [
    "### Задание 2"
   ]
  },
  {
   "cell_type": "markdown",
   "metadata": {},
   "source": [
    "Дан оператор поворота на 180 градусов, задаваемый матрицей \n",
    "\n",
    "$$A=\\begin{pmatrix}\n",
    "-1 & 0\\\\ \n",
    "0 & -1\n",
    "\\end{pmatrix}.$$\n"
   ]
  },
  {
   "cell_type": "markdown",
   "metadata": {},
   "source": [
    "$\\begin{pmatrix}\n",
    "-1 & 0\\\\ \n",
    "0 & -1\n",
    "\\end{pmatrix}$ = $\\begin{pmatrix}\n",
    "-a\\\\ \n",
    "-b\n",
    "\\end{pmatrix}$ = $(-1)\\begin{pmatrix} \n",
    "a\\\\ \n",
    "b\n",
    "\\end{pmatrix}$"
   ]
  },
  {
   "cell_type": "markdown",
   "metadata": {},
   "source": [
    "Произвольно взятый вектор, является собственным вектором данного поворота."
   ]
  },
  {
   "cell_type": "markdown",
   "metadata": {},
   "source": [
    "### Задание 3"
   ]
  },
  {
   "cell_type": "markdown",
   "metadata": {},
   "source": [
    "Пусть линейный оператор задан матрицей\n",
    "\n",
    "$$A=\\begin{pmatrix}\n",
    "1 & 1\\\\ \n",
    "-1 & 3\n",
    "\\end{pmatrix}.$$\n",
    "\n",
    "Установить, является ли вектор $x=(1,1)$ собственным вектором этого линейного оператора."
   ]
  },
  {
   "cell_type": "markdown",
   "metadata": {},
   "source": [
    "$\\begin{pmatrix}\n",
    "1 & 1\\\\ \n",
    "-1 & 3\n",
    "\\end{pmatrix}\\cdot$ $\\begin{pmatrix}\n",
    "1\\\\ \n",
    "1\n",
    "\\end{pmatrix}$ = $ \\lambda \\begin{pmatrix}\n",
    "1\\\\ \n",
    "1\n",
    "\\end{pmatrix}$"
   ]
  },
  {
   "cell_type": "markdown",
   "metadata": {},
   "source": [
    "$\\begin{cases}\n",
    "1+1=1\\cdot\\lambda \\\\ \n",
    "-1+3 = -1\\cdot \\lambda\n",
    "\\end{cases}\n",
    "\\Rightarrow\n",
    "\\begin{cases}\n",
    "\\lambda=2\\\\ \n",
    "\\lambda=2\n",
    "\\end{cases}$"
   ]
  },
  {
   "cell_type": "markdown",
   "metadata": {},
   "source": [
    "Ответ:  Вектор  𝑥=(1,1) является собственным вектором этого линейного оператора, с собственным значением $\\lambda=2$"
   ]
  },
  {
   "cell_type": "markdown",
   "metadata": {},
   "source": [
    "### Задание 4"
   ]
  },
  {
   "cell_type": "markdown",
   "metadata": {},
   "source": [
    "Пусть линейный оператор задан матрицей\n",
    "\n",
    "$$A=\\begin{pmatrix}\n",
    "0 & 3 & 0\\\\ \n",
    "3 & 0 & 0\\\\\n",
    "0 & 0 & 3\n",
    "\\end{pmatrix}.$$\n",
    "\n",
    "Установить, является ли вектор $x=(3, -3, -4)$ собственным вектором этого линейного оператора."
   ]
  },
  {
   "cell_type": "markdown",
   "metadata": {},
   "source": [
    "$\\begin{pmatrix}\n",
    "0 & 3 & 0\\\\ \n",
    "3 & 0 & 0\\\\\n",
    "0 & 0 & 3\n",
    "\\end{pmatrix}$ $\\cdot \\begin{pmatrix}\n",
    "3\\\\ \n",
    "-3\\\\\n",
    "-4\n",
    "\\end{pmatrix}$ = $ \\lambda \\begin{pmatrix}\n",
    "3\\\\ \n",
    "-3\\\\\n",
    "-4\n",
    "\\end{pmatrix}$"
   ]
  },
  {
   "cell_type": "markdown",
   "metadata": {},
   "source": [
    "$\\begin{cases}\n",
    "-9=3\\cdot\\lambda \\\\ \n",
    "9 = -3\\cdot \\lambda\\\\\n",
    "-12 = -4\\cdot \\lambda\n",
    "\\end{cases}\n",
    "\\Rightarrow\n",
    "\\begin{cases}\n",
    "\\lambda=-3\\\\ \n",
    "\\lambda=-3\\\\\n",
    "\\lambda=3\n",
    "\\end{cases}$\n"
   ]
  },
  {
   "cell_type": "markdown",
   "metadata": {},
   "source": [
    "Ответ:  Вектор  $x=(3, -3, -4)$ не является собственным вектором этого линейного оператора."
   ]
  },
  {
   "cell_type": "code",
   "execution_count": null,
   "metadata": {},
   "outputs": [],
   "source": []
  }
 ],
 "metadata": {
  "kernelspec": {
   "display_name": "Python 3",
   "language": "python",
   "name": "python3"
  },
  "language_info": {
   "codemirror_mode": {
    "name": "ipython",
    "version": 3
   },
   "file_extension": ".py",
   "mimetype": "text/x-python",
   "name": "python",
   "nbconvert_exporter": "python",
   "pygments_lexer": "ipython3",
   "version": "3.7.6"
  }
 },
 "nbformat": 4,
 "nbformat_minor": 4
}

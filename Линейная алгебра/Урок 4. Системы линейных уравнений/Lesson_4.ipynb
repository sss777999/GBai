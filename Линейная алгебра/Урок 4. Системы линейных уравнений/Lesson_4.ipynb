{
 "cells": [
  {
   "cell_type": "markdown",
   "metadata": {},
   "source": [
    "# Системы линейных уравнений"
   ]
  },
  {
   "cell_type": "code",
   "execution_count": 2,
   "metadata": {},
   "outputs": [],
   "source": [
    "import numpy as np"
   ]
  },
  {
   "cell_type": "markdown",
   "metadata": {},
   "source": [
    "### Задание 1"
   ]
  },
  {
   "cell_type": "markdown",
   "metadata": {},
   "source": [
    "__1.__ Решить систему уравнений методом Гаусса:\n",
    "$$\\begin{cases}\n",
    "x_{1}+x_{2}-x_{3}-2x_{4}=0, \\\\\n",
    "2x_{1}+x_{2}-x_{3}+x_{4}=-2, \\\\\n",
    "x_{1}+x_{2}-3x_{3}+x_{4}=4.\n",
    "\\end{cases}$$"
   ]
  },
  {
   "cell_type": "markdown",
   "metadata": {},
   "source": [
    "$$\\begin{pmatrix}\n",
    "\\left.\\begin{matrix}\n",
    "1 & 1 & -1 & -2\\\\ \n",
    "2 & 1 & -1 & 1\\\\ \n",
    "1 & 1 & -3 & 1\\\\ \n",
    "\\end{matrix}\\right|\n",
    "\\begin{matrix}\n",
    "0\\\\ \n",
    "-2\\\\\n",
    "4\\\\\n",
    "\\end{matrix}\n",
    "\\end{pmatrix}$$"
   ]
  },
  {
   "cell_type": "markdown",
   "metadata": {},
   "source": [
    "Вычтем из второй строки удвоенную первую:"
   ]
  },
  {
   "cell_type": "markdown",
   "metadata": {},
   "source": [
    "$$\\begin{pmatrix}\n",
    "\\left.\\begin{matrix}\n",
    "1 & 1 & -1 & -2\\\\ \n",
    "0 & -1 & 1 & 5\\\\ \n",
    "1 & 1 & -3 & 1\\\\ \n",
    "\\end{matrix}\\right|\n",
    "\\begin{matrix}\n",
    "0\\\\ \n",
    "-2\\\\\n",
    "4\\\\\n",
    "\\end{matrix}\n",
    "\\end{pmatrix}$$"
   ]
  },
  {
   "cell_type": "markdown",
   "metadata": {},
   "source": [
    "Вычтем из третьей строки первую:"
   ]
  },
  {
   "cell_type": "markdown",
   "metadata": {},
   "source": [
    "$$\\begin{pmatrix}\n",
    "\\left.\\begin{matrix}\n",
    "1 & 1 & -1 & -2\\\\ \n",
    "0 & -1 & 1 & 5\\\\ \n",
    "0 & 0 & -2 & 3\\\\ \n",
    "\\end{matrix}\\right|\n",
    "\\begin{matrix}\n",
    "0\\\\ \n",
    "-2\\\\\n",
    "4\\\\\n",
    "\\end{matrix}\n",
    "\\end{pmatrix}$$"
   ]
  },
  {
   "cell_type": "code",
   "execution_count": 43,
   "metadata": {},
   "outputs": [
    {
     "name": "stdout",
     "output_type": "stream",
     "text": [
      "Ранг матрицы: 3\n"
     ]
    }
   ],
   "source": [
    "a=np.array([[1,1,-1,-2], [2,1,-1,1], [1,1,-3,1]])\n",
    "print(f'Ранг матрицы: {np.linalg.matrix_rank(a)}')"
   ]
  },
  {
   "cell_type": "markdown",
   "metadata": {},
   "source": [
    "$$\\begin{cases}\n",
    "x_{1}+x_{2}-x_{3}-2x_{4}=0, \\\\\n",
    "-x_{2}+x_{3}+5x_{4}=-2, \\\\\n",
    "-2x_{3}+3x_{4}=4.\n",
    "\\end{cases}$$"
   ]
  },
  {
   "cell_type": "markdown",
   "metadata": {},
   "source": [
    "$x_4 = c$"
   ]
  },
  {
   "cell_type": "markdown",
   "metadata": {},
   "source": [
    "$x_1 = -(2+(3𝑐−4)/−2+5𝑐)+(3𝑐−4)/−2+2c$"
   ]
  },
  {
   "cell_type": "markdown",
   "metadata": {},
   "source": [
    "$x_2 = 2 + (3𝑐−4)/−2 + 5c$"
   ]
  },
  {
   "cell_type": "markdown",
   "metadata": {},
   "source": [
    "$x_3 = (3c-4)/2$"
   ]
  },
  {
   "cell_type": "markdown",
   "metadata": {},
   "source": [
    "Запишем бесконечное множество решений в виде общего решения!"
   ]
  },
  {
   "cell_type": "markdown",
   "metadata": {},
   "source": [
    "Пусть $x_4 = 0$, тогда:"
   ]
  },
  {
   "cell_type": "code",
   "execution_count": 16,
   "metadata": {},
   "outputs": [
    {
     "data": {
      "text/plain": [
       "-2.0"
      ]
     },
     "execution_count": 16,
     "metadata": {},
     "output_type": "execute_result"
    }
   ],
   "source": [
    "c = 0\n",
    "x_3 = (3*c-4)/2\n",
    "x_3"
   ]
  },
  {
   "cell_type": "code",
   "execution_count": 18,
   "metadata": {},
   "outputs": [
    {
     "data": {
      "text/plain": [
       "0.0"
      ]
     },
     "execution_count": 18,
     "metadata": {},
     "output_type": "execute_result"
    }
   ],
   "source": [
    "x_2 = 2 + x_3 + 5*c\n",
    "x_2"
   ]
  },
  {
   "cell_type": "code",
   "execution_count": 20,
   "metadata": {},
   "outputs": [
    {
     "data": {
      "text/plain": [
       "-2.0"
      ]
     },
     "execution_count": 20,
     "metadata": {},
     "output_type": "execute_result"
    }
   ],
   "source": [
    "x_1 = -x_2+x_3+2*c\n",
    "x_1"
   ]
  },
  {
   "cell_type": "markdown",
   "metadata": {},
   "source": [
    "### Задание 2"
   ]
  },
  {
   "cell_type": "markdown",
   "metadata": {},
   "source": [
    "__2.__ Проверить на совместность и выяснить, сколько решений будет иметь система линейных уравнений:\n",
    "\n",
    "   а) $\\begin{cases}\n",
    "3x_{1}-x_{2}+x_{3}=4, \\\\\n",
    "2x_{1}-5x_{2}-3x_{3}=-17, \\\\\n",
    "x_{1}+x_{2}-x_{3}=0;\n",
    "\\end{cases}$\n",
    "    \n",
    "   б) $\\begin{cases}\n",
    "2x_{1}-4x_{2}+6x_{3}=1, \\\\\n",
    "x_{1}-2x_{2}+3x_{3}=-2, \\\\\n",
    "3x_{1}-6x_{2}+9x_{3}=5;\n",
    "\\end{cases}$\n",
    "    \n",
    "   в) $\\begin{cases}\n",
    "x_{1}+2x_{2}+5x_{3}=4, \\\\\n",
    "3x_{1}+x_{2}-8x_{3}=-2. \n",
    "\\end{cases}$\n"
   ]
  },
  {
   "cell_type": "code",
   "execution_count": 30,
   "metadata": {},
   "outputs": [
    {
     "name": "stdout",
     "output_type": "stream",
     "text": [
      "Ранг матрицы: 3\n"
     ]
    }
   ],
   "source": [
    "aa = np.array([[3,-1,1], [2,-5,-3], [1,1,-1]])\n",
    "print(f'Ранг матрицы: {np.linalg.matrix_rank(aa)}')"
   ]
  },
  {
   "cell_type": "code",
   "execution_count": 31,
   "metadata": {},
   "outputs": [
    {
     "name": "stdout",
     "output_type": "stream",
     "text": [
      "Ранг матрицы: 3\n"
     ]
    }
   ],
   "source": [
    "aa = np.array([[3,-1,1], [2,-5,-3], [1,1,-1],[4,-17,0]])\n",
    "print(f'Ранг матрицы: {np.linalg.matrix_rank(aa)}')"
   ]
  },
  {
   "cell_type": "markdown",
   "metadata": {},
   "source": [
    "a) совместная, одно (ранги и количество переменных совпадают)"
   ]
  },
  {
   "cell_type": "code",
   "execution_count": 36,
   "metadata": {},
   "outputs": [
    {
     "name": "stdout",
     "output_type": "stream",
     "text": [
      "Ранг матрицы: 1\n"
     ]
    }
   ],
   "source": [
    "bb = np.array([[2,-4,6], [1,-2,3], [3,-6,9]])\n",
    "print(f'Ранг матрицы: {np.linalg.matrix_rank(bb)}')"
   ]
  },
  {
   "cell_type": "code",
   "execution_count": 37,
   "metadata": {},
   "outputs": [
    {
     "name": "stdout",
     "output_type": "stream",
     "text": [
      "Ранг матрицы: 2\n"
     ]
    }
   ],
   "source": [
    "bb = np.array([[2,-4,6], [1,-2,3], [3,-6,9], [1,-2,5]])\n",
    "print(f'Ранг матрицы: {np.linalg.matrix_rank(bb)}')"
   ]
  },
  {
   "cell_type": "markdown",
   "metadata": {},
   "source": [
    "б) несовместная, 0=5 (также ранги не совпадают)"
   ]
  },
  {
   "cell_type": "code",
   "execution_count": 45,
   "metadata": {},
   "outputs": [
    {
     "name": "stdout",
     "output_type": "stream",
     "text": [
      "Ранг матрицы: 2\n"
     ]
    }
   ],
   "source": [
    "vv = np.array([[1,2,5], [3,1,-8]])\n",
    "print(f'Ранг матрицы: {np.linalg.matrix_rank(vv)}')"
   ]
  },
  {
   "cell_type": "markdown",
   "metadata": {},
   "source": [
    "в) совместная, бесконечное множество (ранг 2, а размерность 3, бесконечное множество решений)"
   ]
  },
  {
   "cell_type": "markdown",
   "metadata": {},
   "source": [
    "### Задание 3"
   ]
  },
  {
   "cell_type": "markdown",
   "metadata": {},
   "source": [
    "__3.__ Проверить на совместность и выяснить, сколько решений будет иметь система линейных уравнений, заданная расширенной матрицей\n",
    "\n",
    "$$\\tilde{A}=\\begin{pmatrix}\n",
    "\\left.\\begin{matrix}\n",
    "1 & 3 & -2 & 4\\\\ \n",
    "0 & 5 & 0 & 1\\\\ \n",
    "0 & 0 & 3 & 0\\\\ \n",
    "0 & 0 & 0 & 2\n",
    "\\end{matrix}\\right|\n",
    "\\begin{matrix}\n",
    "3\\\\ \n",
    "2\\\\\n",
    "4\\\\\n",
    "1\n",
    "\\end{matrix}\n",
    "\\end{pmatrix}.$$"
   ]
  },
  {
   "cell_type": "code",
   "execution_count": 26,
   "metadata": {},
   "outputs": [
    {
     "name": "stdout",
     "output_type": "stream",
     "text": [
      "Ранг матрицы: 4\n"
     ]
    }
   ],
   "source": [
    "a3=np.array([[1,3,-2,-4], [0,5,0,1], [0,0,3,0], [0,0,0,2]])\n",
    "print(f'Ранг матрицы: {np.linalg.matrix_rank(a3)}')"
   ]
  },
  {
   "cell_type": "code",
   "execution_count": 27,
   "metadata": {},
   "outputs": [
    {
     "name": "stdout",
     "output_type": "stream",
     "text": [
      "Ранг матрицы: 4\n"
     ]
    }
   ],
   "source": [
    "a4=np.array([[1,3,-2,-4], [0,5,0,1], [0,0,3,0], [0,0,0,2], [3,2,4,1]])\n",
    "print(f'Ранг матрицы: {np.linalg.matrix_rank(a4)}')"
   ]
  },
  {
   "cell_type": "markdown",
   "metadata": {},
   "source": [
    "Ранги матриц совпадают и равняются 4, переменных тоже 4. Это говорит о том, что система совместная и имеет одно решение!"
   ]
  },
  {
   "cell_type": "markdown",
   "metadata": {},
   "source": [
    "### Задание 4"
   ]
  },
  {
   "cell_type": "markdown",
   "metadata": {},
   "source": [
    "__4.__ Дана система линейных уравнений, заданная расширенной матрицей\n",
    "\n",
    "$$\\tilde{A}=\\begin{pmatrix}\n",
    "\\left.\\begin{matrix}\n",
    "1 & 2 & 3\\\\ \n",
    "4 & 5 & 6\\\\ \n",
    "7 & 8 & 9\n",
    "\\end{matrix}\\right|\n",
    "\\begin{matrix}\n",
    "a\\\\ \n",
    "b\\\\\n",
    "c\n",
    "\\end{matrix}\n",
    "\\end{pmatrix}.$$\n",
    "Найти соотношение между параметрами $a$, $b$ и $c$, при которых система является несовместной."
   ]
  },
  {
   "cell_type": "code",
   "execution_count": 47,
   "metadata": {},
   "outputs": [
    {
     "name": "stdout",
     "output_type": "stream",
     "text": [
      "Ранг матрицы: 2\n"
     ]
    }
   ],
   "source": [
    "aaa = np.array([[1,2,3],[4,5,6],[7,8,9]])\n",
    "print(f'Ранг матрицы: {np.linalg.matrix_rank(aaa)}')"
   ]
  },
  {
   "cell_type": "code",
   "execution_count": 55,
   "metadata": {},
   "outputs": [
    {
     "name": "stdout",
     "output_type": "stream",
     "text": [
      "Ранг матрицы: 3\n"
     ]
    }
   ],
   "source": [
    "aaa = np.array([[1,2,3],[4,5,6],[7,8,9], [0,1,0]])\n",
    "print(f'Ранг матрицы: {np.linalg.matrix_rank(aaa)}')"
   ]
  },
  {
   "cell_type": "markdown",
   "metadata": {},
   "source": [
    "Начал подставлять по рангам замети, что много вариантов, когда система является несовместной. Натолкнуло на мысль, что может быть бесконечное количетсво решений. Нашел интересное решение такой задачи (было бы хорошо нам знать такое правильно,  поскольку не имею профильного образования, может быть это правило всем знакомо кроме меня):"
   ]
  },
  {
   "cell_type": "markdown",
   "metadata": {},
   "source": [
    "__Решение.__  Составим расширенную матрицу и преобразуем ее к ступенчатой форме:\n",
    "$$\\begin{pmatrix}\n",
    "\\left.\\begin{matrix}\n",
    "1 & 2 & 3\\\\ \n",
    "4 & 5 & 6\\\\ \n",
    "7 & 8 & 9\n",
    "\\end{matrix}\\right|\n",
    "\\begin{matrix}\n",
    "a\\\\ \n",
    "b\\\\\n",
    "c\n",
    "\\end{matrix}\n",
    "\\end{pmatrix}\n",
    "\\begin{cases}\n",
    "стр2-2стр1 \\\\\n",
    "стр3-3стр1\n",
    "\\end{cases}\\Rightarrow\\begin{pmatrix}\n",
    "\\left.\\begin{matrix}\n",
    "1 & 2 & 3\\\\ \n",
    "2 & 1 & 0\\\\ \n",
    "4 & 2 & 0\n",
    "\\end{matrix}\\right|\n",
    "\\begin{matrix}\n",
    "a\\\\ \n",
    "b-2a\\\\\n",
    "c-3a\n",
    "\\end{matrix}\n",
    "\\end{pmatrix}\\begin{cases}\n",
    "стр3-3стр1\n",
    "\\end{cases}\\Rightarrow\\begin{pmatrix}\n",
    "\\left.\\begin{matrix}\n",
    "1 & 2 & 3\\\\ \n",
    "2 & 1 & 0\\\\ \n",
    "0 & 0 & 0\n",
    "\\end{matrix}\\right|\n",
    "\\begin{matrix}\n",
    "a\\\\ \n",
    "b-2a\\\\\n",
    "c-3a-2c\n",
    "\\end{matrix}\n",
    "\\end{pmatrix}$$"
   ]
  },
  {
   "cell_type": "markdown",
   "metadata": {},
   "source": [
    "Если ,  $c-3a-2c\\neq0$, то система является несовместной. В противном случае одна из неизвестных является свободной переменной и, следовательно, система имеет бесконечное множество решений."
   ]
  },
  {
   "cell_type": "markdown",
   "metadata": {},
   "source": [
    "# ПЗ 2"
   ]
  },
  {
   "cell_type": "markdown",
   "metadata": {},
   "source": [
    "### Задание 1"
   ]
  },
  {
   "cell_type": "markdown",
   "metadata": {},
   "source": [
    "Решить систему уравнений методом Крамера:\n",
    "\n",
    "а) $\\begin{cases} x_{1}-2x_{2}=1 \\\\ 3x_{1}-4x_{2}=7 \\end{cases}$\n",
    "\n",
    "б) $\\begin{cases} 2x_{1}-x_{2}+5x_{3}=10 \\\\ x_{1}+x_{2}-3x_{3}=-2 \\\\ 2x_{1}+4x_{2}+x_{3}=1 \\end{cases}$"
   ]
  },
  {
   "cell_type": "markdown",
   "metadata": {},
   "source": [
    "$$x_{i}=\\frac{detA_{i}}{detA},$$"
   ]
  },
  {
   "cell_type": "markdown",
   "metadata": {},
   "source": [
    "а)"
   ]
  },
  {
   "cell_type": "code",
   "execution_count": 75,
   "metadata": {},
   "outputs": [
    {
     "name": "stdout",
     "output_type": "stream",
     "text": [
      "2.0000000000000004\n",
      "10.000000000000002\n",
      "4.0\n"
     ]
    }
   ],
   "source": [
    "a_2 = np.array([[1,-2], [3,-4]])\n",
    "a_22 = np.array([[-4,7], [-2,1]])\n",
    "a_23 = np.array([[1,1], [3,7]])\n",
    "print(np.linalg.det(a_2))\n",
    "print(np.linalg.det(a_22))\n",
    "print(np.linalg.det(a_23))"
   ]
  },
  {
   "cell_type": "code",
   "execution_count": 72,
   "metadata": {},
   "outputs": [
    {
     "data": {
      "text/plain": [
       "5.0"
      ]
     },
     "execution_count": 72,
     "metadata": {},
     "output_type": "execute_result"
    }
   ],
   "source": [
    "x_11 = np.linalg.det(a_22)/np.linalg.det(a_2)\n",
    "x_11"
   ]
  },
  {
   "cell_type": "code",
   "execution_count": 74,
   "metadata": {},
   "outputs": [
    {
     "data": {
      "text/plain": [
       "1.9999999999999996"
      ]
     },
     "execution_count": 74,
     "metadata": {},
     "output_type": "execute_result"
    }
   ],
   "source": [
    "x_12 = np.linalg.det(a_23)/np.linalg.det(a_2)\n",
    "x_12"
   ]
  },
  {
   "cell_type": "markdown",
   "metadata": {},
   "source": [
    "б)"
   ]
  },
  {
   "cell_type": "code",
   "execution_count": 84,
   "metadata": {},
   "outputs": [
    {
     "name": "stdout",
     "output_type": "stream",
     "text": [
      "42.99999999999998\n",
      "86.00000000000004\n",
      "-43.000000000000014\n",
      "42.99999999999998\n"
     ]
    }
   ],
   "source": [
    "a_22 = np.array([[2,-1,5], [1,1,-3], [2,4,1]])\n",
    "a_222 = np.array([[10,-1,5], [-2,1,-3], [1,4,1]])\n",
    "a_223 = np.array([[2,10,5], [1,-2,-3], [2,1,1]])\n",
    "a_224 = np.array([[2,-1,10], [1,1,-2], [2,4,1]])\n",
    "print(np.linalg.det(a_22))\n",
    "print(np.linalg.det(a_222))\n",
    "print(np.linalg.det(a_223))\n",
    "print(np.linalg.det(a_224))"
   ]
  },
  {
   "cell_type": "code",
   "execution_count": 85,
   "metadata": {},
   "outputs": [
    {
     "data": {
      "text/plain": [
       "2.0000000000000018"
      ]
     },
     "execution_count": 85,
     "metadata": {},
     "output_type": "execute_result"
    }
   ],
   "source": [
    "x_111 = np.linalg.det(a_222)/np.linalg.det(a_22)\n",
    "x_111"
   ]
  },
  {
   "cell_type": "code",
   "execution_count": 86,
   "metadata": {},
   "outputs": [
    {
     "data": {
      "text/plain": [
       "-1.0000000000000009"
      ]
     },
     "execution_count": 86,
     "metadata": {},
     "output_type": "execute_result"
    }
   ],
   "source": [
    "x_222 = np.linalg.det(a_223)/np.linalg.det(a_22)\n",
    "x_222"
   ]
  },
  {
   "cell_type": "code",
   "execution_count": 87,
   "metadata": {},
   "outputs": [
    {
     "data": {
      "text/plain": [
       "1.0"
      ]
     },
     "execution_count": 87,
     "metadata": {},
     "output_type": "execute_result"
    }
   ],
   "source": [
    "x_333 = np.linalg.det(a_224)/np.linalg.det(a_22)\n",
    "x_333"
   ]
  },
  {
   "cell_type": "markdown",
   "metadata": {},
   "source": [
    "### Задание 2*"
   ]
  },
  {
   "cell_type": "markdown",
   "metadata": {},
   "source": [
    "Найти $L$-матрицу $LU$-разложения для матрицы коэффициентов:"
   ]
  },
  {
   "cell_type": "markdown",
   "metadata": {},
   "source": [
    "а)$$\\begin{pmatrix} 1 & 2 & 4 \\\\ 2 & 9 & 12 \\\\ 3 & 26 & 30 \\end{pmatrix}$$"
   ]
  },
  {
   "cell_type": "markdown",
   "metadata": {},
   "source": [
    "б)$$\\begin{pmatrix} 1 & 1 & 2 & 4\\\\ 2 & 5 & 8 & 9\\\\ 3 & 18 & 29 & 18\\\\ 4 & 22 & 53 & 33 \\end{pmatrix}$$"
   ]
  },
  {
   "cell_type": "markdown",
   "metadata": {},
   "source": [
    "а)"
   ]
  },
  {
   "cell_type": "markdown",
   "metadata": {},
   "source": [
    "Домножим 1 строку на -2 и отнимем от 2 строки. Домножим 1 строку на -3 и отнимем от 3 строки. Домножим вторую строку на -4 и отнимем от 3 строки"
   ]
  },
  {
   "cell_type": "markdown",
   "metadata": {},
   "source": [
    "$$U_x = \\begin{pmatrix}\n",
    "1 & 2 & 4 \\\\ \n",
    "0 & 5 & 4 \\\\ \n",
    "0 & 0 & 2\n",
    "\\end{pmatrix}$$"
   ]
  },
  {
   "cell_type": "markdown",
   "metadata": {},
   "source": [
    "$$L_y = \\begin{pmatrix}\n",
    "1 & 0 & 0 \\\\ \n",
    "2 & 1 & 0 \\\\ \n",
    "3 & 4 & 1\n",
    "\\end{pmatrix}$$"
   ]
  },
  {
   "cell_type": "markdown",
   "metadata": {},
   "source": [
    "б)"
   ]
  },
  {
   "cell_type": "markdown",
   "metadata": {},
   "source": [
    "$$U_x = \\begin{pmatrix} \n",
    "1 & 1 & 2 & 4\\\\ \n",
    "0 & 3 & 4 & 1\\\\ \n",
    "0 & 0 & 3 & 1\\\\ \n",
    "0 & 0 & 0 & 12 \n",
    "\\end{pmatrix}$$"
   ]
  },
  {
   "cell_type": "markdown",
   "metadata": {},
   "source": [
    "$$L_y = \\begin{pmatrix}\n",
    "1 & 0 & 0 & 0\\\\ \n",
    "2 & 1 & 0 & 0\\\\ \n",
    "3 & 5 & 1 & 0\\\\\n",
    "4 & 6 & 7 & 1\n",
    "\\end{pmatrix}$$"
   ]
  },
  {
   "cell_type": "markdown",
   "metadata": {},
   "source": [
    "# Не доделал дополнительные задания, очень много времени забирает )))"
   ]
  },
  {
   "cell_type": "markdown",
   "metadata": {},
   "source": [
    "### Задание 3*"
   ]
  },
  {
   "cell_type": "markdown",
   "metadata": {},
   "source": [
    "Решить систему линейных уравнений методом $LU$$LU$-разложения\n",
    "\n",
    "$$\\begin{cases} 2x_{1}+x_{2}+3x_{3}=1 \\\\ 11x_{1}+7x_{2}+5x_{3}=-6 \\\\ 9x_{1}+8x_{2}+4x_{3}=-5 \\end{cases}$$$$\\begin{cases} 2x_{1}+x_{2}+3x_{3}=1 \\\\ 11x_{1}+7x_{2}+5x_{3}=-6 \\\\ 9x_{1}+8x_{2}+4x_{3}=-5 \\end{cases}$$"
   ]
  },
  {
   "cell_type": "markdown",
   "metadata": {},
   "source": [
    "### Задание 4*"
   ]
  },
  {
   "cell_type": "markdown",
   "metadata": {},
   "source": [
    "Решить систему линейных уравнений методом Холецкого\n",
    "\n",
    "$$\\begin{cases} 81x_{1}-45x_{2}+45x_{3}=531 \\\\ -45x_{1}+50x_{2}-15x_{3}=-460 \\\\ 45x_{1}-15x_{2}+38x_{3}=193 \\end{cases}$$$$\\begin{cases} 81x_{1}-45x_{2}+45x_{3}=531 \\\\ -45x_{1}+50x_{2}-15x_{3}=-460 \\\\ 45x_{1}-15x_{2}+38x_{3}=193 \\end{cases}$$"
   ]
  },
  {
   "cell_type": "markdown",
   "metadata": {},
   "source": [
    "### Задание 5*"
   ]
  },
  {
   "cell_type": "markdown",
   "metadata": {},
   "source": [
    "__5*.__ Написать на Python программу с реализацией одного из изученных алгоритмов решения СЛАУ."
   ]
  },
  {
   "cell_type": "code",
   "execution_count": null,
   "metadata": {},
   "outputs": [],
   "source": []
  }
 ],
 "metadata": {
  "kernelspec": {
   "display_name": "Python 3",
   "language": "python",
   "name": "python3"
  },
  "language_info": {
   "codemirror_mode": {
    "name": "ipython",
    "version": 3
   },
   "file_extension": ".py",
   "mimetype": "text/x-python",
   "name": "python",
   "nbconvert_exporter": "python",
   "pygments_lexer": "ipython3",
   "version": "3.7.6"
  }
 },
 "nbformat": 4,
 "nbformat_minor": 4
}

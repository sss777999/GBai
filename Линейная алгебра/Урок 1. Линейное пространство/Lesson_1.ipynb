{
 "cells": [
  {
   "cell_type": "markdown",
   "metadata": {},
   "source": [
    "# Линейное пространство"
   ]
  },
  {
   "cell_type": "code",
   "execution_count": 2,
   "metadata": {},
   "outputs": [],
   "source": [
    "import numpy as np"
   ]
  },
  {
   "cell_type": "markdown",
   "metadata": {},
   "source": [
    "### Задание 1"
   ]
  },
  {
   "cell_type": "markdown",
   "metadata": {},
   "source": [
    "Исследовать на линейную зависимость:\n",
    "$f1(x)=e^x,f2(x)=1,f3(x)=x+1,f4(x)=x−e^x$."
   ]
  },
  {
   "cell_type": "markdown",
   "metadata": {},
   "source": [
    "Заметим, что $$f_{4}(x)=f_{3}(x)-f_{2}(x)-f_{1}(x) = x+1-1-e^{x} = x-e^{x},$$ то есть один из векторов является линейной комбинацией двух остальных. Из этого следует, что векторы линейно зависимы."
   ]
  },
  {
   "cell_type": "markdown",
   "metadata": {},
   "source": [
    "### Задание 2"
   ]
  },
  {
   "cell_type": "markdown",
   "metadata": {},
   "source": [
    "Исследовать на линейную зависимость:\n",
    "$f1(x)=2,f2(x)=x,f3(x)=x2,f4(x)=(x+1)^2$."
   ]
  },
  {
   "cell_type": "markdown",
   "metadata": {},
   "source": [
    "Заметим, что $$f_{4}(x)=f_{3}(x)+2f_{2}(x)+0.5f_{1}(x) = x^{2}+2x+1 = (x+1)^{2},$$ то есть один из векторов является линейной комбинацией двух остальных. Из этого следует, что векторы линейно зависимы."
   ]
  },
  {
   "cell_type": "markdown",
   "metadata": {},
   "source": [
    "### Задание 3"
   ]
  },
  {
   "cell_type": "markdown",
   "metadata": {},
   "source": [
    "Найти координаты вектора  x=(2,3,5)∈R3  в базисе  b1=(0,0,10) ,  b2=(2,0,0) ,  b3=(0,1,0)."
   ]
  },
  {
   "cell_type": "markdown",
   "metadata": {},
   "source": [
    "$$x=(2, 3, 5)=(2,0,0)+(0, 3, 0)+(0, 0, 5)=1\\cdot(2, 0, 0)+3\\cdot(0, 1, 0)+0.5\\cdot(0, 0, 10)=b_{2}+3b_{3}+0.5b_{1},$$\n",
    "то есть координатами вектора $x$ в данном базисе являются $0.5$, $1$, $3$."
   ]
  },
  {
   "cell_type": "markdown",
   "metadata": {},
   "source": [
    "### Задание 4"
   ]
  },
  {
   "cell_type": "markdown",
   "metadata": {},
   "source": [
    "Найти координаты вектора  $3x2−2x+2\\in\\mathbb{R}^{3}[x]$ :\n",
    "\n",
    "а) в базисе  1 ,  x ,  x2 ;\n",
    "\n",
    "б) в базисе  x2 ,  x−1 ,  1 ."
   ]
  },
  {
   "cell_type": "markdown",
   "metadata": {},
   "source": [
    "__Решение__"
   ]
  },
  {
   "cell_type": "markdown",
   "metadata": {},
   "source": [
    "а) Координаты вектора $3x^{2}-2x+2\\in\\mathbb{R}^{3}[x]$ в базисе $1$, $x$, $x^{2}$ равны:  $2$, $-2$, $3$"
   ]
  },
  {
   "cell_type": "markdown",
   "metadata": {},
   "source": [
    "б) Координаты вектора $3x^{2}-2x+2\\in\\mathbb{R}^{3}[x]$ в базисе $x^{2}$, $x-1$, $1$ равны:  $3$, $-2$, $0$"
   ]
  },
  {
   "cell_type": "markdown",
   "metadata": {},
   "source": [
    "### Задание 5"
   ]
  },
  {
   "cell_type": "markdown",
   "metadata": {},
   "source": [
    "Установить, является ли линейным подпространством:\n",
    "\n",
    "а) совокупность всех векторов трехмерного пространства, у которых по крайней мере одна из первых двух координат равна нулю;\n",
    "\n",
    "б) все векторы, являющиеся линейными комбинациями данных векторов {u1,u2,...,un}."
   ]
  },
  {
   "cell_type": "markdown",
   "metadata": {},
   "source": [
    "Подмножество  L  линейного пространства  V  является его подпространством тогда и только тогда, когда для любых элементов  u,v∈L  и любого  α∈R  выполняются условия:\n",
    "\n",
    "1) u+v∈L; \n",
    "\n",
    "2) α⋅u∈L."
   ]
  },
  {
   "cell_type": "markdown",
   "metadata": {},
   "source": [
    "__Решение__:"
   ]
  },
  {
   "cell_type": "markdown",
   "metadata": {},
   "source": [
    "а) Есть три варианта: либо первая координата равна нулю $(0, a, b)$ - вектора параллельны плоскости $YoZ$ , либо вторая координата равна нулю $(c, 0, d)$ - вектора параллельны плоскости $XoZ$, либо обе первых координат равны нулю $(0, 0, e)$ - вектора параллельны оси $Z$."
   ]
  },
  {
   "cell_type": "markdown",
   "metadata": {},
   "source": [
    "Проведем проверку для случая, когда у первого вектора первая координата равна нулю, а у второго - вторая:"
   ]
  },
  {
   "cell_type": "markdown",
   "metadata": {},
   "source": [
    "$$(0, a, b)+(c, 0, d) = (c, a, b+d),$$ "
   ]
  },
  {
   "cell_type": "markdown",
   "metadata": {},
   "source": [
    "Полученные векторы не принадлежат указанному в задании множеству всех векторов, то есть данное множество не является подпространством линейного пространства $\\mathbb{R}^{3}$."
   ]
  },
  {
   "cell_type": "markdown",
   "metadata": {},
   "source": [
    "б) Результаты операций $\\ u+v$ и $\\ \\alpha\\cdot u$ также будут являться линейными комбинациями заданных векторов $\\{u_{1}, u_{2}, ..., u_{n}\\}$, поэтому все векторы, являющиеся линейными комбинациями данных векторов $\\{u_{1}, u_{2}, ..., u_{n}\\}$ будут являться линейным подпространством."
   ]
  },
  {
   "cell_type": "markdown",
   "metadata": {},
   "source": [
    "# ПЗ 2"
   ]
  },
  {
   "cell_type": "markdown",
   "metadata": {},
   "source": [
    "### Задание 1"
   ]
  },
  {
   "cell_type": "markdown",
   "metadata": {},
   "source": [
    "Найти скалярное произведение векторов $x, y \\in \\mathbb{R}$$x, y \\in \\mathbb{R}$:"
   ]
  },
  {
   "cell_type": "markdown",
   "metadata": {},
   "source": [
    "а) $x=(0,-3, 6),~y=(-4, 7, 9)$"
   ]
  },
  {
   "cell_type": "code",
   "execution_count": 11,
   "metadata": {},
   "outputs": [
    {
     "data": {
      "text/plain": [
       "33"
      ]
     },
     "execution_count": 11,
     "metadata": {},
     "output_type": "execute_result"
    }
   ],
   "source": [
    "-21+54"
   ]
  },
  {
   "cell_type": "markdown",
   "metadata": {},
   "source": [
    "б) $x=(7, -4, 0, 1),~y=(-3, 1, 11, 2)$"
   ]
  },
  {
   "cell_type": "code",
   "execution_count": 12,
   "metadata": {},
   "outputs": [
    {
     "data": {
      "text/plain": [
       "-23"
      ]
     },
     "execution_count": 12,
     "metadata": {},
     "output_type": "execute_result"
    }
   ],
   "source": [
    "-21-4+0+2"
   ]
  },
  {
   "cell_type": "markdown",
   "metadata": {},
   "source": [
    "### Задание 2"
   ]
  },
  {
   "cell_type": "markdown",
   "metadata": {},
   "source": [
    "Найти нормы векторов  (4,2,4)  и  (12,3,4)  и угол между ними."
   ]
  },
  {
   "cell_type": "code",
   "execution_count": 19,
   "metadata": {},
   "outputs": [],
   "source": [
    "a = np.array([4,2,4])\n",
    "b = np.array([12,3,4])"
   ]
  },
  {
   "cell_type": "markdown",
   "metadata": {},
   "source": [
    "Определим манхэттенскую норму:"
   ]
  },
  {
   "cell_type": "code",
   "execution_count": 27,
   "metadata": {},
   "outputs": [
    {
     "data": {
      "text/plain": [
       "(10.0, 19.0)"
      ]
     },
     "execution_count": 27,
     "metadata": {},
     "output_type": "execute_result"
    }
   ],
   "source": [
    "np.linalg.norm(a, ord=1), np.linalg.norm(b, ord=1)"
   ]
  },
  {
   "cell_type": "markdown",
   "metadata": {},
   "source": [
    "Определим Евклидову норму:"
   ]
  },
  {
   "cell_type": "code",
   "execution_count": 29,
   "metadata": {},
   "outputs": [
    {
     "data": {
      "text/plain": [
       "(6.0, 13.0)"
      ]
     },
     "execution_count": 29,
     "metadata": {},
     "output_type": "execute_result"
    }
   ],
   "source": [
    "np.linalg.norm(a), np.linalg.norm(b)"
   ]
  },
  {
   "cell_type": "code",
   "execution_count": 30,
   "metadata": {},
   "outputs": [
    {
     "name": "stdout",
     "output_type": "stream",
     "text": [
      "Косинус угла между a и b: 0.90\n",
      "Угол между a и b: 0.46\n"
     ]
    }
   ],
   "source": [
    "cos_phi = np.dot(a, b) / np.linalg.norm(a) / np.linalg.norm(b)\n",
    "print(f'Косинус угла между a и b: {cos_phi:.2f}')\n",
    "print(f'Угол между a и b: {np.arccos(cos_phi):.2f}')"
   ]
  },
  {
   "cell_type": "markdown",
   "metadata": {},
   "source": [
    "### Задание 3"
   ]
  },
  {
   "cell_type": "markdown",
   "metadata": {},
   "source": [
    "Будет ли линейное пространство евклидовым, если за скалярное произведение принять:\n",
    "а) произведение длин векторов;\n",
    "б) утроенное обычное скалярное произведение векторов?"
   ]
  },
  {
   "cell_type": "markdown",
   "metadata": {},
   "source": [
    "а) нет"
   ]
  },
  {
   "cell_type": "markdown",
   "metadata": {},
   "source": [
    "б) да"
   ]
  },
  {
   "cell_type": "markdown",
   "metadata": {},
   "source": [
    "### Задание 4"
   ]
  },
  {
   "cell_type": "markdown",
   "metadata": {},
   "source": [
    "Какие из нижеперечисленных векторов образуют ортонормированный базис в линейном пространстве  $R^3$ :"
   ]
  },
  {
   "cell_type": "markdown",
   "metadata": {},
   "source": [
    "а)  (1,0,0),(0,0,1)"
   ]
  },
  {
   "cell_type": "markdown",
   "metadata": {},
   "source": [
    "б)  (1/2–√,−1/2–√,0),(1/2–√,1/2–√,0),(0,0,1)"
   ]
  },
  {
   "cell_type": "markdown",
   "metadata": {},
   "source": [
    "в)  (1/2,−1/2,0),(0,1/2,1/2),(0,0,1)"
   ]
  },
  {
   "cell_type": "markdown",
   "metadata": {},
   "source": [
    "г)  (1,0,0),(0,1,0),(0,0,1)"
   ]
  },
  {
   "cell_type": "markdown",
   "metadata": {},
   "source": [
    "Ответ: все, кроме \"в)\""
   ]
  },
  {
   "cell_type": "markdown",
   "metadata": {},
   "source": [
    "__Решение__"
   ]
  },
  {
   "cell_type": "markdown",
   "metadata": {},
   "source": [
    "а) Образуют ортонормированный базис в $\\mathbb{R}^{3}$, но не являются базисом $\\mathbb{R}^{3}$"
   ]
  },
  {
   "cell_type": "markdown",
   "metadata": {},
   "source": [
    "б) Образуют ортонормированный базис, так как выполняются условия $(e_{i}, e_{j})=0$ $\\forall$ $i\\neq j$ и $(e_{i},e_{i})=1$ $\\forall$ $i\\in[1, n].$"
   ]
  },
  {
   "cell_type": "code",
   "execution_count": 4,
   "metadata": {},
   "outputs": [],
   "source": [
    "a = np.array([1/(2)**0.5, -1/(2)**0.5, 0])\n",
    "b = np.array([1/(2)**0.5, 1/(2)**0.5, 0])\n",
    "c = np.array([0, 0, 1])"
   ]
  },
  {
   "cell_type": "code",
   "execution_count": 7,
   "metadata": {},
   "outputs": [
    {
     "name": "stdout",
     "output_type": "stream",
     "text": [
      "(a, a)= 1\n",
      "(b, b)= 1\n",
      "(c, c)= 1\n"
     ]
    }
   ],
   "source": [
    "print(f'(a, a)= {a.dot(a):1.0f}')\n",
    "print(f'(b, b)= {b.dot(b):1.0f}')\n",
    "print(f'(c, c)= {c.dot(c):1.0f}')"
   ]
  },
  {
   "cell_type": "code",
   "execution_count": 70,
   "metadata": {},
   "outputs": [
    {
     "name": "stdout",
     "output_type": "stream",
     "text": [
      "(a, b)= 0.0\n",
      "(a, c)= 0.0\n",
      "(c, b)= 0.0\n"
     ]
    }
   ],
   "source": [
    "print(f'(a, b)= {a.dot(b)}')\n",
    "print(f'(a, c)= {a.dot(c)}')\n",
    "print(f'(c, b)= {c.dot(b)}')"
   ]
  },
  {
   "cell_type": "markdown",
   "metadata": {},
   "source": [
    "в) Не образуют ортонормированный базис, так как не выполняются условия $(e_{i}, e_{j})=0$ $\\forall$ $i\\neq j$ и $(e_{i},e_{i})=1$ $\\forall$ $i\\in[1, n].$"
   ]
  },
  {
   "cell_type": "code",
   "execution_count": 47,
   "metadata": {},
   "outputs": [],
   "source": [
    "a = np.array([1/2, -1/2, 0])\n",
    "b = np.array([0, 1/2, 1/2])\n",
    "c = np.array([0, 0, 1])"
   ]
  },
  {
   "cell_type": "code",
   "execution_count": 48,
   "metadata": {},
   "outputs": [
    {
     "name": "stdout",
     "output_type": "stream",
     "text": [
      "(a, a)= 0.5\n",
      "(b, b)= 0.5\n",
      "(c, c)= 1\n"
     ]
    }
   ],
   "source": [
    "print(f'(a, a)= {a.dot(a)}')\n",
    "print(f'(b, b)= {b.dot(b)}')\n",
    "print(f'(c, c)= {c.dot(c)}')"
   ]
  },
  {
   "cell_type": "code",
   "execution_count": 50,
   "metadata": {},
   "outputs": [
    {
     "name": "stdout",
     "output_type": "stream",
     "text": [
      "(a, b)= -0.25\n",
      "(a, c)= 0.0\n",
      "(c, b)= 0.5\n"
     ]
    }
   ],
   "source": [
    "print(f'(a, b)= {a.dot(b)}')\n",
    "print(f'(a, c)= {a.dot(c)}')\n",
    "print(f'(c, b)= {c.dot(b)}')"
   ]
  },
  {
   "cell_type": "markdown",
   "metadata": {},
   "source": [
    "г) Образуют ортонормированный базис, так как выполняются условия $(e_{i}, e_{j})=0$ $\\forall$ $i\\neq j$ и $(e_{i},e_{i})=1$ $\\forall$ $i\\in[1, n].$"
   ]
  },
  {
   "cell_type": "code",
   "execution_count": 62,
   "metadata": {},
   "outputs": [],
   "source": [
    "a = np.array([1, 0, 0])\n",
    "b = np.array([0, 1, 0])\n",
    "c = np.array([0, 0, 1])"
   ]
  },
  {
   "cell_type": "code",
   "execution_count": 64,
   "metadata": {},
   "outputs": [
    {
     "name": "stdout",
     "output_type": "stream",
     "text": [
      "(a, a)= 1\n",
      "(b, b)= 1\n",
      "(c, c)= 1\n"
     ]
    }
   ],
   "source": [
    "print(f'(a, a)= {a.dot(a)}')\n",
    "print(f'(b, b)= {b.dot(b)}')\n",
    "print(f'(c, c)= {c.dot(c)}')"
   ]
  },
  {
   "cell_type": "code",
   "execution_count": 65,
   "metadata": {
    "scrolled": true
   },
   "outputs": [
    {
     "name": "stdout",
     "output_type": "stream",
     "text": [
      "(a, b)= 0\n",
      "(a, c)= 0\n",
      "(c, b)= 0\n"
     ]
    }
   ],
   "source": [
    "print(f'(a, b)= {a.dot(b)}')\n",
    "print(f'(a, c)= {a.dot(c)}')\n",
    "print(f'(c, b)= {c.dot(b)}')"
   ]
  }
 ],
 "metadata": {
  "kernelspec": {
   "display_name": "Python 3",
   "language": "python",
   "name": "python3"
  },
  "language_info": {
   "codemirror_mode": {
    "name": "ipython",
    "version": 3
   },
   "file_extension": ".py",
   "mimetype": "text/x-python",
   "name": "python",
   "nbconvert_exporter": "python",
   "pygments_lexer": "ipython3",
   "version": "3.7.6"
  }
 },
 "nbformat": 4,
 "nbformat_minor": 4
}
